{
 "cells": [
  {
   "cell_type": "markdown",
   "metadata": {},
   "source": [
    "# AMPEL intro III: Using a T2 unit to calculate transient properties\n",
    "\n",
    "Here is an example of how to implement a T2 unit and run it in a standalone mode, without the need to have the whole AMPEL system and its services running. It is intended to be examined after the `t0_unit_example` notebook.\n",
    "\n",
    "T2 units derive further information regarding an individual transient based on either information provided in alert(s) or through external queries (e.g. catalogs)."
   ]
  },
  {
   "cell_type": "markdown",
   "metadata": {},
   "source": [
    "## T2 Unit Implementation\n",
    "\n",
    "First, we need to implement a T2 unit class. This class should inherit from the class `AbsT2Unit` and implement a constructor and a `run` method.\n",
    "\n",
    "The implementation of this class can be seen here: https://github.com/AmpelProject/Ampel-contrib-sample/blob/master/ampel/contrib/groupname/t2/T2ExamplePolyFit.py\n",
    "\n",
    "Then, we initialize an object from this class, giving as a parameter a standard Python logger object."
   ]
  },
  {
   "cell_type": "code",
   "execution_count": 1,
   "metadata": {},
   "outputs": [],
   "source": [
    "import logging\n",
    "logger = logging.getLogger()\n",
    "logger.setLevel(logging.DEBUG)\n",
    "\n",
    "from ampel.contrib.groupname.t2.T2ExamplePolyFit import T2ExamplePolyFit\n",
    "myt2 = T2ExamplePolyFit(logger=logger)"
   ]
  },
  {
   "cell_type": "markdown",
   "metadata": {},
   "source": [
    "Then, we download from the web a compressed TAR file with alerts over which we can run our T2 unit:"
   ]
  },
  {
   "cell_type": "code",
   "execution_count": 2,
   "metadata": {},
   "outputs": [
    {
     "name": "stdout",
     "output_type": "stream",
     "text": [
      "Downloading tar\n"
     ]
    }
   ],
   "source": [
    "import os\n",
    "import urllib.request\n",
    "\n",
    "small_test_tar_url = 'https://ztf.uw.edu/alerts/public/ztf_public_20181129.tar.gz'\n",
    "small_test_tar_path = 'ztf_public_20181129.tar.gz'\n",
    "\n",
    "if not os.path.isfile(small_test_tar_path):\n",
    "    print('Downloading tar')\n",
    "    urllib.request.urlretrieve(small_test_tar_url, small_test_tar_path)"
   ]
  },
  {
   "cell_type": "markdown",
   "metadata": {},
   "source": [
    "Afterwards, we need to load these alerts (which have an AVRO extension) and transform them into `AmpelAlert` objects. We can achieve that with the help of the `load_from_tar` method of the `DevAlertLoader` module. For the sake of this example we will only run our T2 unit over the first alert from the set:"
   ]
  },
  {
   "cell_type": "code",
   "execution_count": 3,
   "metadata": {},
   "outputs": [
    {
     "name": "stdout",
     "output_type": "stream",
     "text": [
      "<ampel.base.AmpelAlert.AmpelAlert object at 0x110beae10>\n"
     ]
    }
   ],
   "source": [
    "from ampel.ztf.pipeline.t0.load.DevAlertLoader import load_from_tar\n",
    "\n",
    "alert_list = load_from_tar(small_test_tar_path)\n",
    "alert = alert_list[0]\n",
    "print(alert)"
   ]
  },
  {
   "cell_type": "markdown",
   "metadata": {},
   "source": [
    "Then, we proceed to transform the selected `AmpelAlert` into a lightcurve object by using the `ZIAlertUtils._create_lc` object. Over this lightcurve object we can now run our T2 unit using some parameters, in this case the degree of the polynomial fit. This returns a dictionary of results that will, when run inside an Ampel instance, be stored in the transient database:"
   ]
  },
  {
   "cell_type": "code",
   "execution_count": 4,
   "metadata": {},
   "outputs": [
    {
     "name": "stderr",
     "output_type": "stream",
     "text": [
      "/Users/jakob/Documents/ZTF/Ampel/ampel-contrib-sample/ampel/contrib/groupname/t2/T2ExamplePolyFit.py:61: RankWarning: Polyfit may be poorly conditioned\n",
      "  p = numpy.polyfit(x, y, run_config['degree'])\n"
     ]
    },
    {
     "data": {
      "text/plain": [
       "{'chi2': 0.6192213326648925,\n",
       " 'polyfit': [-1.0961359302623197e-22,\n",
       "  5.3896394214184006e-17,\n",
       "  5.299994683346074e-10,\n",
       "  0.001302956758609511,\n",
       "  800.7822706007479,\n",
       "  -9843709523.291702]}"
      ]
     },
     "execution_count": 4,
     "metadata": {},
     "output_type": "execute_result"
    }
   ],
   "source": [
    "from ampel.ztf.utils.ZIAlertUtils import ZIAlertUtils\n",
    "\n",
    "lc = ZIAlertUtils._create_lc(alert.pps, alert.uls)\n",
    "\n",
    "run_config = {\n",
    "    \"degree\" : 5\n",
    "}\n",
    "\n",
    "out = myt2.run(lc, run_config)\n",
    "out"
   ]
  },
  {
   "cell_type": "markdown",
   "metadata": {},
   "source": [
    "Finally, we can plot the result of the processing of our T2 unit, in this case a polynomial fit over the lightcurve, by using the standard Python Matplotlib library:"
   ]
  },
  {
   "cell_type": "code",
   "execution_count": 5,
   "metadata": {},
   "outputs": [
    {
     "data": {
      "text/plain": [
       "[<matplotlib.lines.Line2D at 0x116c30668>]"
      ]
     },
     "execution_count": 5,
     "metadata": {},
     "output_type": "execute_result"
    },
    {
     "data": {
      "image/png": "[encoded data removed]",
      "text/plain": [
       "<matplotlib.figure.Figure at 0x113f59860>"
      ]
     },
     "metadata": {},
     "output_type": "display_data"
    }
   ],
   "source": [
    "import matplotlib.pyplot as plt\n",
    "%matplotlib inline\n",
    "import numpy as np\n",
    "\n",
    "obs_date = sorted(lc.get_values('obs_date'))\n",
    "mag = sorted(lc.get_values('mag'))\n",
    "\n",
    "fit = np.poly1d(out['polyfit'])\n",
    "\n",
    "ax = plt.axes()\n",
    "ax.scatter(*zip(*lc.get_tuples('obs_date', 'mag')))\n",
    "x_range = np.linspace(obs_date[0], obs_date[-1], 100)\n",
    "ax.plot(x_range, fit(x_range), '--')"
   ]
  }
 ],
 "metadata": {
  "kernelspec": {
   "display_name": "Python 3",
   "language": "python",
   "name": "python3"
  },
  "language_info": {
   "codemirror_mode": {
    "name": "ipython",
    "version": 3
   },
   "file_extension": ".py",
   "mimetype": "text/x-python",
   "name": "python",
   "nbconvert_exporter": "python",
   "pygments_lexer": "ipython3",
   "version": "3.6.7"
  }
 },
 "nbformat": 4,
 "nbformat_minor": 2
}
