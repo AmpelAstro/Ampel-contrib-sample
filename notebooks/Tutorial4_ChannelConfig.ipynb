{
 "cells": [
  {
   "cell_type": "markdown",
   "id": "overhead-hacker",
   "metadata": {},
   "source": [
    "#### AMPEL intro\n",
    "\n",
    "AMPEL is software framework designed for processing heterogeneous streamed data. \n",
    "\n",
    "AMPEL was not developed to provide a specific scientific resource, but rather an environment where it is easy to ensure that a scientific program fulfills the strict requirement of the next generation real-time experiments: efficient and powerful analysis, where provenance and reproducibiltiy is paramount. In particular, to guarantee the last point requires algorithms (which make real-time deicsions) be separated from infrastructure (which will likely evolve with time and project phase).\n",
    "\n",
    "An AMPEL _user_ constructs a configuration file which describes every step of how an incoming alert stream should be processed. This can be broken down into selecting which _units_ should be executed, and which _parameters_ each of these should be provided. An AMPEL _live instance_ executes these units, based on the input data, as requested and stores all intermediate and final data in a databse. \n",
    "\n",
    "Provenance/reproducibility is ensured through multiple layers. First, each live instance is run from a container which can be retrieved later and together with a data archive replay the full stream. Second, AMPEL contains an extensive set of logs and a transient-specific _Journal_ which details all related actions/decisions. Finally, each unit and channel configuration file is drawn from a specific (tagged) github version. \n",
    "\n",
    "The series of notebooks provided here gradually builds toward a sample full configration."
   ]
  },
  {
   "cell_type": "markdown",
   "id": "dressed-conference",
   "metadata": {},
   "source": [
    "#### Sample science case\n",
    "\n",
    "Each AMPEl _channel_ is designed with a science goal (or \"hypothesis/test\") in mind. A much discussed current topic is the origin of the extragalactic neutrino flux observed e.g. by IceCube, with one of the potential sources being supernovae interacting with circumstellar material (SNIIn). We here wish to investigate whether a particular subtype of these, SN2009ip-like SNe with recent previous outbursts, are regularly found within the uncertainty region of neutrino alerts. \n",
    "\n",
    "The steps for this science program would be: Identify transients with optical lightcurves compatible with SN2009ip AND which coincide with neutrino alerts. For such targets, obtain follow-up spectroscopy to confirm classification (i.e. an external reaction). "
   ]
  },
  {
   "cell_type": "markdown",
   "id": "retained-prayer",
   "metadata": {},
   "source": [
    "#### This notebook - Tutorial 4\n",
    "\n",
    "This notebook reproduces the results of Tutorial 3, but through using external configuration files. These work as \"recipes\" for a scientific program. Subsequent analysis verisons can be expressed through changes to these, and they can be conveniently distributed e.g. in publications. Versions of the same sample channel is provided both as `SAMPLE_CHANNEL.yml` in the `conf/ampel-contrib/sample/channel` dir and as two processes in the `conf/ampel-contrib/sample/process` dir. The content of `SAMPLE_CHANNEL.yml` is included the cell below. The generation of the core `ampel_config.yml` file included all of these.\n",
    "\n",
    "At this stage the channel is ready to be included in a live AMPEL instance. This can either be used to process a large set of archive data, or for processing a real-time data stream. Simultaneously, the channel configuration and the unit algorithms serves to provide a full, referencable description of the science content of the channel. \n",
    "\n",
    "As in Tutorial 2, this notebook thus assumes a mongod instance to be running and accessible through 27017. (The port can be changed through the mongo key of the ampel_config.yml file)."
   ]
  },
  {
   "cell_type": "markdown",
   "id": "fff7aecb",
   "metadata": {},
   "source": [
    "###### Content of SAMPLE_CHANNEL.yml"
   ]
  },
  {
   "cell_type": "raw",
   "id": "64d28ea0",
   "metadata": {},
   "source": [
    "channel: SAMPLE_CHANNEL\n",
    "contact: maintainer_contact@doe.com\n",
    "active: false\n",
    "auto_complete: live\n",
    "template: ztf_uw_public\n",
    "t0_filter:\n",
    "  unit: SimpleDecentFilterCopy\n",
    "  config:\n",
    "    min_rb: 0.3\n",
    "    min_ndet: 7\n",
    "    min_tspan: 10\n",
    "    max_tspan: 200\n",
    "    min_gal_lat: 15\n",
    "t2_compute:\n",
    "  - unit: T2SNcosmoComp\n",
    "    config: \n",
    "      target_model_name: v19-2009ip-corr \n",
    "      base_model_name: salt2 \n",
    "      chi2dof_cut: 2.\n",
    "  - unit: T2MultiMessMatch\n",
    "    config:\n",
    "      temporal_pull_scaling: 1\n",
    "      spatial_pull_scaling: 3.\n",
    "      energy_pull_scaling: 0.001\n",
    "      match_where: 'latest'\n",
    "t3_supervise:\n",
    "    template: ztf_periodic_summary\n",
    "    schedule: every(30).seconds\n",
    "    load:\n",
    "      - TRANSIENT\n",
    "      - COMPOUND\n",
    "      - DATAPOINT\n",
    "      - T2RECORD\n",
    "    filter: \n",
    "      t2:\n",
    "        all_of: \n",
    "        - unit: T2SNcosmoComp\n",
    "          match: \n",
    "            target_match: true\n",
    "        - unit: T2MultiMessMatch\n",
    "          match: \n",
    "            best_match:\n",
    "              $lt: 1\n",
    "    run:\n",
    "      - unit: T3HelloWorld\n",
    "        config: \n",
    "          t2info_from: \n",
    "            - T2SNcosmoComp\n",
    "            - T2MultiMessMatch"
   ]
  },
  {
   "cell_type": "code",
   "execution_count": null,
   "id": "congressional-tanzania",
   "metadata": {},
   "outputs": [],
   "source": [
    "import os\n",
    "%load_ext ampel_quick_import\n",
    "%qi DevAmpelContext AmpelLogger T2Processor T3Processor ChannelModel AlertProcessor TarAlertLoader ChannelModel AbsAlertFilter ProcessModel AbsProcessorUnit DefaultProcessController"
   ]
  },
  {
   "cell_type": "code",
   "execution_count": null,
   "id": "surface-ballot",
   "metadata": {},
   "outputs": [],
   "source": [
    "AMPEL_CONF = \"../../ampel_config.yml\"\n",
    "ALERT_ARCHIVE = '../sample_data/ztfpub_200917_pruned.tar.gz'"
   ]
  },
  {
   "cell_type": "code",
   "execution_count": null,
   "id": "experienced-november",
   "metadata": {},
   "outputs": [],
   "source": [
    "# The operation context is created based on a setup configuration file.\n",
    "# db_prefix sets the DB name to use\n",
    "ctx = DevAmpelContext.load(\n",
    "    config_file_path = AMPEL_CONF,\n",
    "    db_prefix = \"AmpelTutorial\",\n",
    "    purge_db = True,\n",
    ")"
   ]
  },
  {
   "cell_type": "markdown",
   "id": "500e823d",
   "metadata": {},
   "source": [
    "First the t0 selection/filter process will be run, as gathered from the 'process' folder:"
   ]
  },
  {
   "cell_type": "code",
   "execution_count": null,
   "id": "7cc62002",
   "metadata": {},
   "outputs": [],
   "source": [
    "process_name = \"process.t0.sample_t0_process\""
   ]
  },
  {
   "cell_type": "code",
   "execution_count": null,
   "id": "0ff598e5",
   "metadata": {},
   "outputs": [],
   "source": [
    "# A process model is determined and executed by a processor\n",
    "pm = ProcessModel(**ctx.config.get(process_name))\n",
    "ctx.loader.new_admin_unit(unit_model = pm.processor, context = ctx, process_name = pm.name).run()"
   ]
  },
  {
   "cell_type": "markdown",
   "id": "ca80e616",
   "metadata": {},
   "source": [
    "Outcome is the same as previously. This process also created \"tickets\" for T2 calculations to do. These will now be executed:"
   ]
  },
  {
   "cell_type": "code",
   "execution_count": null,
   "id": "f83edf0c",
   "metadata": {},
   "outputs": [],
   "source": [
    "process_name = \"process.t2.DefaultT2Process\""
   ]
  },
  {
   "cell_type": "code",
   "execution_count": null,
   "id": "humanitarian-things",
   "metadata": {},
   "outputs": [],
   "source": [
    "pm = ProcessModel(**ctx.config.get(process_name))\n",
    "ctx.loader.new_admin_unit(unit_model = pm.processor, context = ctx, process_name = pm.name).run()"
   ]
  },
  {
   "cell_type": "code",
   "execution_count": null,
   "id": "industrial-realtor",
   "metadata": {},
   "outputs": [],
   "source": [
    "process_name = \"process.t3.sample_t3_process\""
   ]
  },
  {
   "cell_type": "code",
   "execution_count": null,
   "id": "blank-sheriff",
   "metadata": {},
   "outputs": [],
   "source": [
    "pm = ProcessModel(**ctx.config.get(process_name))\n",
    "ctx.loader.new_admin_unit(unit_model = pm.processor, context = ctx, process_name = pm.name).run()"
   ]
  }
 ],
 "metadata": {
  "kernelspec": {
   "display_name": "Python 3",
   "language": "python",
   "name": "python3"
  },
  "language_info": {
   "codemirror_mode": {
    "name": "ipython",
    "version": 3
   },
   "file_extension": ".py",
   "mimetype": "text/x-python",
   "name": "python",
   "nbconvert_exporter": "python",
   "pygments_lexer": "ipython3",
   "version": "3.8.8"
  }
 },
 "nbformat": 4,
 "nbformat_minor": 5
}
