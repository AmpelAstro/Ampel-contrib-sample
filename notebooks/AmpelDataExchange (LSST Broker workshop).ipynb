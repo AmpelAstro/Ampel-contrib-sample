{
 "cells": [
  {
   "cell_type": "markdown",
   "id": "perceived-appliance",
   "metadata": {},
   "source": [
    "<img src=\"figures/ampel_multi.png\" width=\"600\">"
   ]
  },
  {
   "cell_type": "markdown",
   "id": "standard-personality",
   "metadata": {},
   "source": [
    "### AMPEL and the Vera Rubin Observatory\n",
    "\n",
    "The Very Rubin Observatory, and the LSST survey, will provide a legacy collection of real-time data. Considering the potential long term impact of any transient programs, the AMPEL analysis platform was developed to \n",
    "host complex science program with provenance requirements matching those of the observatory. In essence, this means the creation of scientific analysis schema which detail all scientific/algorithmic choices being made. This schema can be distributed with publications, and consistently applied to simulated, archived and real-time datasets."
   ]
  },
  {
   "cell_type": "markdown",
   "id": "passive-lesson",
   "metadata": {},
   "source": [
    "<img src=\"figures/program_design2.png\" width=\"600\">\n",
    "Overview of sample AMPEL science schema. Grey circles indicate analysis units requested by the program, while the colored symbol shows where in the AMPEL processing tiers each unit belongs."
   ]
  },
  {
   "cell_type": "markdown",
   "id": "outdoor-wednesday",
   "metadata": {},
   "source": [
    "Such analysis schema should in principle be independent of infrastructure and processing method. Both scientfic analysis and processing/brokering infrastructure are bound to evolve during the coming decade. _It would be a great goal for this group to develop standards for describing real-time programs such that these can be decoupled from the computing question of where data is being processed, and e.g. whether this is archived or real-time._"
   ]
  },
  {
   "cell_type": "code",
   "execution_count": null,
   "id": "three-dairy",
   "metadata": {},
   "outputs": [],
   "source": [
    "# This notebook does not actually run any code, and it is only used to point to modules and docs.\n",
    "import sys\n",
    "!{sys.executable} -m pip install ampel-ztf"
   ]
  },
  {
   "cell_type": "code",
   "execution_count": null,
   "id": "attractive-spouse",
   "metadata": {},
   "outputs": [],
   "source": [
    "%load_ext ampel_quick_import\n",
    "%qi ZiAlertContentIngester ZTFAlertStreamController AbsT3Unit SkyPortalPublisher"
   ]
  },
  {
   "cell_type": "markdown",
   "id": "accompanied-lesson",
   "metadata": {},
   "source": [
    "### AMPEL API\n",
    "\n",
    "A standard REST API can be used to access ZTF data through AMPEL:\n",
    "\n",
    "[https://ampel.zeuthen.desy.de/api/ztf/archive/docs](https://ampel.zeuthen.desy.de/api/ztf/archive/docs)\n",
    "\n",
    "A similar access will be provided to LSST data. However, as such interactions generally break provenance, the recommended development path is to design a program based on archived data then upload these to a live instance. The following sections will outline how data is added and exported from a live AMPEL channel."
   ]
  },
  {
   "cell_type": "markdown",
   "id": "vocational-supplier",
   "metadata": {},
   "source": [
    "### AMPEL tiers\n",
    "\n",
    "Alert processing in AMPEL is carried out in four separate tiers:\n",
    "\n",
    "|   |  |\n",
    "| -------- | ----- | \n",
    "![alt-text-1](figures/ampel-tiers2_titleless.png \"title-1\") | ![alt-text-2](figures/ampel-tiers_titleless.png \"title-2\")\n",
    "\n",
    "\n",
    "The first of these (*add*) directly concerns how to ingest new data into the AMPEL system, while the last (*react*) is frequently used to export data."
   ]
  },
  {
   "cell_type": "markdown",
   "id": "virgin-rates",
   "metadata": {},
   "source": [
    "### AMPEL T0 - ADD\n",
    "\n",
    "AMPEL users can design units to ingest a wide variety of data sources, and are free to e.g. import data from external telescope to combine with larger streams (like those from LSST, ZTF and CTA). This is done through two, source specific steps: defining a _controller_ who reads the data stream and an _ingester_ which selects which of the stream object properties are to be added into the database (and performs potential conversion operators). We here examplify with the conroller and ingester used for the ZTF alert stream."
   ]
  },
  {
   "cell_type": "code",
   "execution_count": null,
   "id": "familiar-vegetarian",
   "metadata": {},
   "outputs": [],
   "source": [
    "ZTFAlertStreamController??"
   ]
  },
  {
   "cell_type": "code",
   "execution_count": null,
   "id": "vital-portland",
   "metadata": {},
   "outputs": [],
   "source": [
    "ZiAlertContentIngester??"
   ]
  },
  {
   "cell_type": "markdown",
   "id": "theoretical-pittsburgh",
   "metadata": {},
   "source": [
    "Other data-streams can be accessed through a straightforward extension of these. An AMPEL channel requests which controller and ingester to use in the analysis schema: \n",
    "\n",
    "```\n",
    "...\n",
    "controller:\n",
    "    unit: ZTFAlertStreamController\n",
    "        processor:\n",
    "            unit: AlertProcessor\n",
    "            config:\n",
    "                directives:\n",
    "                    t0_add:\n",
    "                        unit: ZiAlertContentIngester\n",
    "...\n",
    "```"
   ]
  },
  {
   "cell_type": "markdown",
   "id": "starting-monkey",
   "metadata": {},
   "source": [
    "### AMPEL T3 - REACT\n",
    "\n",
    "In the third tier, an AMPEL channel works with the full collection of transients (modified since some previous time). A typical task here is to push information to other systems or for visualization. These operations are carried out by _T3Units_s:"
   ]
  },
  {
   "cell_type": "code",
   "execution_count": null,
   "id": "respected-development",
   "metadata": {},
   "outputs": [],
   "source": [
    "AbsT3Unit??"
   ]
  },
  {
   "cell_type": "markdown",
   "id": "exceptional-transition",
   "metadata": {},
   "source": [
    "AMPEL channels typically construct science specific T3s. Constructed and available units perform tasks such as triggering follow-up observations (e.g. LCO/AEON), sending alerts (e.g. SLACK) or providing data to some visualization service (e.g. Skyportal). "
   ]
  },
  {
   "cell_type": "code",
   "execution_count": null,
   "id": "comfortable-bishop",
   "metadata": {},
   "outputs": [],
   "source": [
    "SkyPortalPublisher.post_candidate??"
   ]
  },
  {
   "cell_type": "markdown",
   "id": "sixth-paste",
   "metadata": {},
   "source": [
    "### Next steps\n",
    "\n",
    "The tutorial notebooks contained in the same directory provides a more direct introduction to the design of an AMPEL science channel. "
   ]
  }
 ],
 "metadata": {
  "kernelspec": {
   "display_name": "Python 3",
   "language": "python",
   "name": "python3"
  },
  "language_info": {
   "codemirror_mode": {
    "name": "ipython",
    "version": 3
   },
   "file_extension": ".py",
   "mimetype": "text/x-python",
   "name": "python",
   "nbconvert_exporter": "python",
   "pygments_lexer": "ipython3",
   "version": "3.8.8"
  }
 },
 "nbformat": 4,
 "nbformat_minor": 5
}
