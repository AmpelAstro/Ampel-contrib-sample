{
 "cells": [
  {
   "cell_type": "markdown",
   "id": "dangerous-guidance",
   "metadata": {},
   "source": [
    "<img src=\"figures/ampel_multi.png\" width=\"600\">"
   ]
  },
  {
   "cell_type": "markdown",
   "id": "curious-discharge",
   "metadata": {},
   "source": [
    "### AMPEL and the Vera Rubin Observatory\n",
    "\n",
    "The Vera Rubin Observatory, and the LSST survey, will provide a legacy collection of real-time data. Considering the potential long term impact of any transient programs, the AMPEL analysis platform was developed to \n",
    "host complex science program with provenance requirements matching those of the observatory. In essence, this means the creation of scientific analysis schema which detail all scientific/algorithmic choices being made. This schema can be distributed with publications, and consistently applied to simulated, archived and real-time datasets."
   ]
  },
  {
   "cell_type": "markdown",
   "id": "tutorial-afghanistan",
   "metadata": {},
   "source": [
    "<img src=\"figures/program_design2.png\" width=\"600\">\n",
    "Overview of sample AMPEL science schema. Grey circles indicate analysis units requested by the program, while the colored symbol shows where in the AMPEL processing tiers each unit belongs."
   ]
  },
  {
   "cell_type": "markdown",
   "id": "alike-handle",
   "metadata": {},
   "source": [
    "Such analysis schema should in principle be independent of infrastructure and processing method. Both scientfic analysis and processing/brokering infrastructure are bound to evolve during the coming decade. _It would be a great goal for this group to develop standards for describing real-time programs such that these can be decoupled from the computing question of where data is being processed, and e.g. whether this is archived or real-time._"
   ]
  },
  {
   "cell_type": "code",
   "execution_count": 15,
   "id": "checked-raising",
   "metadata": {
    "collapsed": true
   },
   "outputs": [
    {
     "name": "stdout",
     "output_type": "stream",
     "text": [
      "Requirement already satisfied: ampel-ztf in /home/jnordin/local/miniconda3/envs/ampelTutorial/lib/python3.8/site-packages (0.7.1a13)\n",
      "Requirement already satisfied: nest-asyncio<2.0.0,>=1.4.3 in /home/jnordin/local/miniconda3/envs/ampelTutorial/lib/python3.8/site-packages (from ampel-ztf) (1.5.1)\n",
      "Requirement already satisfied: ampel-core in /home/jnordin/local/miniconda3/envs/ampelTutorial/lib/python3.8/site-packages (from ampel-ztf) (0.7.1a11)\n",
      "Requirement already satisfied: requests<3.0.0,>=2.25.1 in /home/jnordin/local/miniconda3/envs/ampelTutorial/lib/python3.8/site-packages (from ampel-ztf) (2.25.1)\n",
      "Requirement already satisfied: confluent-kafka<2.0.0,>=1.5.0 in /home/jnordin/local/miniconda3/envs/ampelTutorial/lib/python3.8/site-packages (from ampel-ztf) (1.6.1)\n",
      "Requirement already satisfied: requests-toolbelt<0.10.0,>=0.9.1 in /home/jnordin/local/miniconda3/envs/ampelTutorial/lib/python3.8/site-packages (from ampel-ztf) (0.9.1)\n",
      "Requirement already satisfied: aiohttp<4.0.0,>=3.7.3 in /home/jnordin/local/miniconda3/envs/ampelTutorial/lib/python3.8/site-packages (from ampel-ztf) (3.7.4.post0)\n",
      "Requirement already satisfied: matplotlib<4.0.0,>=3.3.4 in /home/jnordin/local/miniconda3/envs/ampelTutorial/lib/python3.8/site-packages (from ampel-ztf) (3.4.1)\n",
      "Requirement already satisfied: ampel-alerts<0.8.0,>=0.7.1-alpha.3 in /home/jnordin/local/miniconda3/envs/ampelTutorial/lib/python3.8/site-packages (from ampel-ztf) (0.7.1a4)\n",
      "Requirement already satisfied: astropy<5.0,>=4.2 in /home/jnordin/local/miniconda3/envs/ampelTutorial/lib/python3.8/site-packages (from ampel-ztf) (4.2.1)\n",
      "Requirement already satisfied: backoff<2.0.0,>=1.10.0 in /home/jnordin/local/miniconda3/envs/ampelTutorial/lib/python3.8/site-packages (from ampel-ztf) (1.10.0)\n",
      "Requirement already satisfied: fastavro<2.0.0,>=1.3.2 in /home/jnordin/local/miniconda3/envs/ampelTutorial/lib/python3.8/site-packages (from ampel-ztf) (1.3.5)\n",
      "Requirement already satisfied: ampel-photometry<0.8.0,>=0.7.1-alpha.0 in /home/jnordin/local/miniconda3/envs/ampelTutorial/lib/python3.8/site-packages (from ampel-ztf) (0.7.1a1)\n",
      "Requirement already satisfied: ampel-interface in /home/jnordin/local/miniconda3/envs/ampelTutorial/lib/python3.8/site-packages (from ampel-ztf) (0.7.1a10)\n",
      "Requirement already satisfied: async-timeout<4.0,>=3.0 in /home/jnordin/local/miniconda3/envs/ampelTutorial/lib/python3.8/site-packages (from aiohttp<4.0.0,>=3.7.3->ampel-ztf) (3.0.1)\n",
      "Requirement already satisfied: attrs>=17.3.0 in /home/jnordin/local/miniconda3/envs/ampelTutorial/lib/python3.8/site-packages (from aiohttp<4.0.0,>=3.7.3->ampel-ztf) (20.3.0)\n",
      "Requirement already satisfied: yarl<2.0,>=1.0 in /home/jnordin/local/miniconda3/envs/ampelTutorial/lib/python3.8/site-packages (from aiohttp<4.0.0,>=3.7.3->ampel-ztf) (1.6.3)\n",
      "Requirement already satisfied: chardet<5.0,>=2.0 in /home/jnordin/local/miniconda3/envs/ampelTutorial/lib/python3.8/site-packages (from aiohttp<4.0.0,>=3.7.3->ampel-ztf) (4.0.0)\n",
      "Requirement already satisfied: typing-extensions>=3.6.5 in /home/jnordin/local/miniconda3/envs/ampelTutorial/lib/python3.8/site-packages (from aiohttp<4.0.0,>=3.7.3->ampel-ztf) (3.7.4.3)\n",
      "Requirement already satisfied: multidict<7.0,>=4.5 in /home/jnordin/local/miniconda3/envs/ampelTutorial/lib/python3.8/site-packages (from aiohttp<4.0.0,>=3.7.3->ampel-ztf) (5.1.0)\n",
      "Requirement already satisfied: prometheus-client<0.10.0,>=0.9.0 in /home/jnordin/local/miniconda3/envs/ampelTutorial/lib/python3.8/site-packages (from ampel-core->ampel-ztf) (0.9.0)\n",
      "Requirement already satisfied: pymongo<4.0,>=3.10 in /home/jnordin/local/miniconda3/envs/ampelTutorial/lib/python3.8/site-packages (from ampel-core->ampel-ztf) (3.11.3)\n",
      "Requirement already satisfied: pydantic<1.5,>=1.4 in /home/jnordin/local/miniconda3/envs/ampelTutorial/lib/python3.8/site-packages (from ampel-core->ampel-ztf) (1.4)\n",
      "Requirement already satisfied: PyYAML<6.0.0,>=5.4.1 in /home/jnordin/local/miniconda3/envs/ampelTutorial/lib/python3.8/site-packages (from ampel-core->ampel-ztf) (5.4.1)\n",
      "Requirement already satisfied: schedule<2.0.0,>=1.0.0 in /home/jnordin/local/miniconda3/envs/ampelTutorial/lib/python3.8/site-packages (from ampel-core->ampel-ztf) (1.0.0)\n",
      "Requirement already satisfied: yq<3.0.0,>=2.12.0 in /home/jnordin/local/miniconda3/envs/ampelTutorial/lib/python3.8/site-packages (from ampel-core->ampel-ztf) (2.12.0)\n",
      "Requirement already satisfied: psutil<6.0.0,>=5.8.0 in /home/jnordin/local/miniconda3/envs/ampelTutorial/lib/python3.8/site-packages (from ampel-core->ampel-ztf) (5.8.0)\n",
      "Requirement already satisfied: slackclient<3.0,>=2.7 in /home/jnordin/local/miniconda3/envs/ampelTutorial/lib/python3.8/site-packages (from ampel-core->ampel-ztf) (2.9.3)\n",
      "Requirement already satisfied: sjcl<0.3.0,>=0.2.1 in /home/jnordin/local/miniconda3/envs/ampelTutorial/lib/python3.8/site-packages (from ampel-core->ampel-ztf) (0.2.1)\n",
      "Requirement already satisfied: pyerfa in /home/jnordin/local/miniconda3/envs/ampelTutorial/lib/python3.8/site-packages (from astropy<5.0,>=4.2->ampel-ztf) (1.7.2)\n",
      "Requirement already satisfied: numpy>=1.17 in /home/jnordin/local/miniconda3/envs/ampelTutorial/lib/python3.8/site-packages (from astropy<5.0,>=4.2->ampel-ztf) (1.20.2)\n",
      "Requirement already satisfied: pyparsing>=2.2.1 in /home/jnordin/local/miniconda3/envs/ampelTutorial/lib/python3.8/site-packages (from matplotlib<4.0.0,>=3.3.4->ampel-ztf) (2.4.7)\n",
      "Requirement already satisfied: python-dateutil>=2.7 in /home/jnordin/local/miniconda3/envs/ampelTutorial/lib/python3.8/site-packages (from matplotlib<4.0.0,>=3.3.4->ampel-ztf) (2.8.1)\n",
      "Requirement already satisfied: pillow>=6.2.0 in /home/jnordin/local/miniconda3/envs/ampelTutorial/lib/python3.8/site-packages (from matplotlib<4.0.0,>=3.3.4->ampel-ztf) (8.2.0)\n",
      "Requirement already satisfied: cycler>=0.10 in /home/jnordin/local/miniconda3/envs/ampelTutorial/lib/python3.8/site-packages (from matplotlib<4.0.0,>=3.3.4->ampel-ztf) (0.10.0)\n",
      "Requirement already satisfied: kiwisolver>=1.0.1 in /home/jnordin/local/miniconda3/envs/ampelTutorial/lib/python3.8/site-packages (from matplotlib<4.0.0,>=3.3.4->ampel-ztf) (1.3.1)\n",
      "Requirement already satisfied: six in /home/jnordin/local/miniconda3/envs/ampelTutorial/lib/python3.8/site-packages (from cycler>=0.10->matplotlib<4.0.0,>=3.3.4->ampel-ztf) (1.15.0)\n",
      "Requirement already satisfied: certifi>=2017.4.17 in /home/jnordin/local/miniconda3/envs/ampelTutorial/lib/python3.8/site-packages (from requests<3.0.0,>=2.25.1->ampel-ztf) (2020.12.5)\n",
      "Requirement already satisfied: urllib3<1.27,>=1.21.1 in /home/jnordin/local/miniconda3/envs/ampelTutorial/lib/python3.8/site-packages (from requests<3.0.0,>=2.25.1->ampel-ztf) (1.26.4)\n",
      "Requirement already satisfied: idna<3,>=2.5 in /home/jnordin/local/miniconda3/envs/ampelTutorial/lib/python3.8/site-packages (from requests<3.0.0,>=2.25.1->ampel-ztf) (2.10)\n",
      "Requirement already satisfied: pycryptodome in /home/jnordin/local/miniconda3/envs/ampelTutorial/lib/python3.8/site-packages (from sjcl<0.3.0,>=0.2.1->ampel-core->ampel-ztf) (3.10.1)\n",
      "Requirement already satisfied: xmltodict>=0.11.0 in /home/jnordin/local/miniconda3/envs/ampelTutorial/lib/python3.8/site-packages (from yq<3.0.0,>=2.12.0->ampel-core->ampel-ztf) (0.12.0)\n",
      "Requirement already satisfied: argcomplete>=1.8.1 in /home/jnordin/local/miniconda3/envs/ampelTutorial/lib/python3.8/site-packages (from yq<3.0.0,>=2.12.0->ampel-core->ampel-ztf) (1.12.2)\n",
      "Requirement already satisfied: setuptools in /home/jnordin/local/miniconda3/envs/ampelTutorial/lib/python3.8/site-packages (from yq<3.0.0,>=2.12.0->ampel-core->ampel-ztf) (52.0.0.post20210125)\n",
      "Requirement already satisfied: toml>=0.10.0 in /home/jnordin/local/miniconda3/envs/ampelTutorial/lib/python3.8/site-packages (from yq<3.0.0,>=2.12.0->ampel-core->ampel-ztf) (0.10.2)\n"
     ]
    }
   ],
   "source": [
    "# This notebook does not actually run any code, and it is only used to point to modules and docs.\n",
    "import sys\n",
    "!{sys.executable} -m pip install ampel-ztf"
   ]
  },
  {
   "cell_type": "code",
   "execution_count": 2,
   "id": "accepted-resolution",
   "metadata": {},
   "outputs": [],
   "source": [
    "from ampel.ztf.ingest.ZiAlertContentIngester import ZiAlertContentIngester\n",
    "from ampel.ztf.t0.ZTFAlertStreamController import ZTFAlertStreamController\n",
    "from ampel.abstract.AbsT3Unit import AbsT3Unit\n",
    "from ampel.ztf.t3.skyportal.SkyPortalPublisher import SkyPortalPublisher"
   ]
  },
  {
   "cell_type": "markdown",
   "id": "powerful-traffic",
   "metadata": {},
   "source": [
    "### AMPEL API\n",
    "\n",
    "A standard REST API can be used to access ZTF data through AMPEL:\n",
    "\n",
    "[https://ampelproject.github.io/astronomy/ztf/index](https://ampelproject.github.io/astronomy/ztf/index)\n",
    "\n",
    "A similar access will be provided to LSST data. However, as such interactions generally break provenance, the recommended development path is to design a program based on archived data then upload these to a live instance. The following sections will outline how data is added and exported from a live AMPEL channel."
   ]
  },
  {
   "cell_type": "markdown",
   "id": "potential-lender",
   "metadata": {},
   "source": [
    "### AMPEL tiers\n",
    "\n",
    "Alert processing in AMPEL is carried out in four separate tiers:\n",
    "\n",
    "|   |  |\n",
    "| -------- | ----- | \n",
    "![alt-text-1](figures/ampel-tiers2_titleless.png \"title-1\") | ![alt-text-2](figures/ampel-tiers_titleless.png \"title-2\")\n",
    "\n",
    "\n",
    "The first of these (*add*) directly concerns how to ingest new data into the AMPEL system, while the last (*react*) is frequently used to export data."
   ]
  },
  {
   "cell_type": "markdown",
   "id": "experimental-suspension",
   "metadata": {},
   "source": [
    "### AMPEL T0 - ADD\n",
    "\n",
    "AMPEL users can design units to ingest a wide variety of data sources, and are free to e.g. import data from external telescope to combine with larger streams (like those from LSST, ZTF and CTA). This is done through two, source specific steps: defining a _controller_ who reads the data stream and an _ingester_ which selects which of the stream object properties are to be added into the database (and performs potential conversion operators). We here examplify with the conroller and ingester used for the ZTF alert stream."
   ]
  },
  {
   "cell_type": "code",
   "execution_count": 16,
   "id": "rising-drawing",
   "metadata": {},
   "outputs": [],
   "source": [
    "ZTFAlertStreamController??"
   ]
  },
  {
   "cell_type": "code",
   "execution_count": 17,
   "id": "unlimited-belly",
   "metadata": {},
   "outputs": [],
   "source": [
    "ZiAlertContentIngester??"
   ]
  },
  {
   "cell_type": "markdown",
   "id": "centered-trinity",
   "metadata": {},
   "source": [
    "Other data-streams can be accessed through a straightforward extension of these. An AMPEL channel requests which controller and ingester to use in the analysis schema: \n",
    "\n",
    "```\n",
    "...\n",
    "controller:\n",
    "    unit: ZTFAlertStreamController\n",
    "        processor:\n",
    "            unit: AlertProcessor\n",
    "            config:\n",
    "                directives:\n",
    "                    t0_add:\n",
    "                        unit: ZiAlertContentIngester\n",
    "...\n",
    "```"
   ]
  },
  {
   "cell_type": "markdown",
   "id": "metropolitan-german",
   "metadata": {},
   "source": [
    "### AMPEL T3 - REACT\n",
    "\n",
    "In the third tier, an AMPEL channel works with the full collection of transients (modified since some previous time). A typical task here is to push information to other systems or for visualization. These operations are carried out by _T3Units_s:"
   ]
  },
  {
   "cell_type": "code",
   "execution_count": 18,
   "id": "engaged-crest",
   "metadata": {},
   "outputs": [],
   "source": [
    "AbsT3Unit??"
   ]
  },
  {
   "cell_type": "markdown",
   "id": "solid-baghdad",
   "metadata": {},
   "source": [
    "AMPEL channels typically construct science specific T3s. Constructed and available units perform tasks such as triggering follow-up observations (e.g. LCO/AEON), sending alerts (e.g. SLACK) or providing data to some visualization service (e.g. Skyportal). "
   ]
  },
  {
   "cell_type": "code",
   "execution_count": 19,
   "id": "unable-spine",
   "metadata": {},
   "outputs": [],
   "source": [
    "SkyPortalPublisher.post_candidate??"
   ]
  },
  {
   "cell_type": "markdown",
   "id": "married-sugar",
   "metadata": {},
   "source": [
    "### Next steps\n",
    "\n",
    "The tutorial notebooks contained in the same directory provides a more direct introduction to the design of an AMPEL science channel. More information is also available at\n",
    "\n",
    "[https://ampelproject.github.io/](https://ampelproject.github.io/)\n",
    "\n",
    "or through any of the AMPEL developers."
   ]
  }
 ],
 "metadata": {
  "kernelspec": {
   "display_name": "Python 3",
   "language": "python",
   "name": "python3"
  },
  "language_info": {
   "codemirror_mode": {
    "name": "ipython",
    "version": 3
   },
   "file_extension": ".py",
   "mimetype": "text/x-python",
   "name": "python",
   "nbconvert_exporter": "python",
   "pygments_lexer": "ipython3",
   "version": "3.8.8"
  }
 },
 "nbformat": 4,
 "nbformat_minor": 5
}
