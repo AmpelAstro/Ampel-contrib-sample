{
 "cells": [
  {
   "cell_type": "code",
   "execution_count": 1,
   "metadata": {},
   "outputs": [],
   "source": [
    "from ampel.contrib.hu.t2.T2LCQuality import T2LCQuality\n",
    "\n",
    "myt2 = T2LCQuality(logger=None, base_config=None)"
   ]
  },
  {
   "cell_type": "code",
   "execution_count": 2,
   "metadata": {},
   "outputs": [
    {
     "data": {
      "text/plain": [
       "('ztf_public_20181129.tar.gz', <http.client.HTTPMessage at 0x7ff9de47de80>)"
      ]
     },
     "execution_count": 2,
     "metadata": {},
     "output_type": "execute_result"
    }
   ],
   "source": [
    "import urllib.request\n",
    "\n",
    "small_test_tar_url = 'https://ztf.uw.edu/alerts/public/ztf_public_20181129.tar.gz'\n",
    "small_test_tar_path = 'ztf_public_20181129.tar.gz'\n",
    "\n",
    "urllib.request.urlretrieve(small_test_tar_url, small_test_tar_path)"
   ]
  },
  {
   "cell_type": "code",
   "execution_count": 3,
   "metadata": {},
   "outputs": [],
   "source": [
    "from ampel.pipeline.t0.load.TarAlertLoader import TarAlertLoader\n",
    "\n",
    "tb_walker = TarAlertLoader(small_test_tar_path)"
   ]
  },
  {
   "cell_type": "code",
   "execution_count": 4,
   "metadata": {},
   "outputs": [],
   "source": [
    "from ampel.pipeline.t0.load.AlertSupplier import AlertSupplier\n",
    "from ampel.ztf.pipeline.t0.load.ZIAlertShaper import ZIAlertShaper\n",
    "\n",
    "alert_supplier = AlertSupplier(tb_walker, ZIAlertShaper.shape, serialization=\"avro\")\n",
    "alert = next(alert_supplier)"
   ]
  },
  {
   "cell_type": "code",
   "execution_count": 5,
   "metadata": {},
   "outputs": [
    {
     "name": "stderr",
     "output_type": "stream",
     "text": [
      "DEBUG:root:computing light curve quality for filter id 1 (g-band)\n",
      "DEBUG:root:applying filter: [{'attribute': 'fid', 'operator': '==', 'value': 1}, {'attribute': 'isdiffpos', 'operator': '!=', 'value': 'f'}, {'attribute': 'isdiffpos', 'operator': '!=', 'value': '0'}]\n",
      "DEBUG:root:got 1 detections and 2 ulims for lightcurve.\n",
      "DEBUG:root:retained 1 upper limits from start of detection (at 2458428.793553 jd)\n",
      "DEBUG:root:computing light curve quality for filter id 2 (r-band)\n",
      "DEBUG:root:applying filter: [{'attribute': 'fid', 'operator': '==', 'value': 2}, {'attribute': 'isdiffpos', 'operator': '!=', 'value': 'f'}, {'attribute': 'isdiffpos', 'operator': '!=', 'value': '0'}]\n",
      "DEBUG:root:got 2 detections and 4 ulims for lightcurve.\n",
      "DEBUG:root:retained 3 upper limits from start of detection (at 2458425.743819 jd)\n",
      "DEBUG:root:computing light curve quality for filter id 3 (i-band)\n",
      "DEBUG:root:applying filter: [{'attribute': 'fid', 'operator': '==', 'value': 3}, {'attribute': 'isdiffpos', 'operator': '!=', 'value': 'f'}, {'attribute': 'isdiffpos', 'operator': '!=', 'value': '0'}]\n",
      "DEBUG:root:No detections in light curve for this band.\n"
     ]
    },
    {
     "name": "stdout",
     "output_type": "stream",
     "text": [
      "{'g': {'strength': 0.5, 'purity': 1.0, 'ndet': 1}, 'r': {'strength': 0.4, 'purity': 1.0, 'ndet': 2}, 'i': {'strength': 0, 'purity': 0, 'ndet': 0}}\n"
     ]
    }
   ],
   "source": [
    "from ampel.ztf.utils.ZIAlertUtils import ZIAlertUtils\n",
    "\n",
    "lc = ZIAlertUtils._create_lc(alert['pps'], alert['uls'])\n",
    "out = myt2.run(lc, {})\n",
    "print(out)"
   ]
  },
  {
   "cell_type": "code",
   "execution_count": 6,
   "metadata": {},
   "outputs": [],
   "source": [
    "import os\n",
    "os.remove(small_test_tar_path)"
   ]
  }
 ],
 "metadata": {
  "kernelspec": {
   "display_name": "Python 3",
   "language": "python",
   "name": "python3"
  },
  "language_info": {
   "codemirror_mode": {
    "name": "ipython",
    "version": 3
   },
   "file_extension": ".py",
   "mimetype": "text/x-python",
   "name": "python",
   "nbconvert_exporter": "python",
   "pygments_lexer": "ipython3",
   "version": "3.6.7"
  }
 },
 "nbformat": 4,
 "nbformat_minor": 2
}
