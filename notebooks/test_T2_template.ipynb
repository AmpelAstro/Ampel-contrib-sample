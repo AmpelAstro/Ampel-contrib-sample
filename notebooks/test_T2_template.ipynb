{
 "cells": [
  {
   "cell_type": "code",
   "execution_count": 1,
   "metadata": {},
   "outputs": [],
   "source": [
    "import logging\n",
    "logger = logging.getLogger()\n",
    "logger.setLevel(logging.DEBUG)\n",
    "\n",
    "from ampel.contrib.groupname.t2.T2ExamplePolyFit import T2ExamplePolyFit\n",
    "\n",
    "base_config = {\n",
    "    \"fitFunction\" : \"polyfit\"\n",
    "}\n",
    "\n",
    "myt2 = T2ExamplePolyFit(logger=logger, base_config=base_config)"
   ]
  },
  {
   "cell_type": "code",
   "execution_count": 2,
   "metadata": {},
   "outputs": [],
   "source": [
    "import urllib.request\n",
    "\n",
    "small_test_tar_url = 'https://ztf.uw.edu/alerts/public/ztf_public_20181129.tar.gz'\n",
    "small_test_tar_path = 'ztf_public_20181129.tar.gz'\n",
    "\n",
    "#urllib.request.urlretrieve(small_test_tar_url, small_test_tar_path)"
   ]
  },
  {
   "cell_type": "code",
   "execution_count": 3,
   "metadata": {},
   "outputs": [],
   "source": [
    "from ampel.pipeline.t0.load.TarAlertLoader import TarAlertLoader\n",
    "\n",
    "tb_walker = TarAlertLoader(small_test_tar_path)"
   ]
  },
  {
   "cell_type": "code",
   "execution_count": 4,
   "metadata": {},
   "outputs": [],
   "source": [
    "from ampel.pipeline.t0.load.AlertSupplier import AlertSupplier\n",
    "from ampel.ztf.pipeline.t0.load.ZIAlertShaper import ZIAlertShaper\n",
    "\n",
    "alert_supplier = AlertSupplier(tb_walker, ZIAlertShaper.shape, serialization=\"avro\")\n",
    "alert = next(alert_supplier)"
   ]
  },
  {
   "cell_type": "code",
   "execution_count": 5,
   "metadata": {},
   "outputs": [
    {
     "name": "stderr",
     "output_type": "stream",
     "text": [
      "/home/nmiranda/workspace/ampel/src/Ampel-contrib-sample/ampel/contrib/groupname/t2/T2ExamplePolyFit.py:140: RankWarning: Polyfit may be poorly conditioned\n",
      "  p = self.fit_function(x, y, run_config['degree'])\n",
      "Please use 'self.logger' for logging\n",
      "By doing so, log entries will be automatically recorded into the database\n"
     ]
    },
    {
     "name": "stdout",
     "output_type": "stream",
     "text": [
      "{'polyfit': [-1.0961370521132026e-22, 5.3897048815435494e-17, 5.299984481164758e-10, 0.0013029547743927943, 800.7921093164033, -9843720396.91712], 'chi2': 0.6192191186091804}\n"
     ]
    }
   ],
   "source": [
    "from ampel.ztf.utils.ZIAlertUtils import ZIAlertUtils\n",
    "\n",
    "lc = ZIAlertUtils._create_lc(alert['pps'], alert['uls'])\n",
    "\n",
    "run_config = {\n",
    "    \"degree\" : 5\n",
    "}\n",
    "\n",
    "out = myt2.run(lc, run_config)\n",
    "print(out)"
   ]
  },
  {
   "cell_type": "code",
   "execution_count": 6,
   "metadata": {},
   "outputs": [],
   "source": [
    "import os\n",
    "os.remove(small_test_tar_path)"
   ]
  }
 ],
 "metadata": {
  "kernelspec": {
   "display_name": "Python 3",
   "language": "python",
   "name": "python3"
  },
  "language_info": {
   "codemirror_mode": {
    "name": "ipython",
    "version": 3
   },
   "file_extension": ".py",
   "mimetype": "text/x-python",
   "name": "python",
   "nbconvert_exporter": "python",
   "pygments_lexer": "ipython3",
   "version": "3.6.7"
  }
 },
 "nbformat": 4,
 "nbformat_minor": 2
}
