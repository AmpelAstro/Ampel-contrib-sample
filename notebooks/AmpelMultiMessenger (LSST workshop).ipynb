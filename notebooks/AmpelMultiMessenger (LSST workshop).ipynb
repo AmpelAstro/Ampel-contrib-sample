{
 "cells": [
  {
   "cell_type": "markdown",
   "id": "c7130d5e",
   "metadata": {},
   "source": [
    "<img src=\"figures/ampel.png\" width=\"200\">"
   ]
  },
  {
   "cell_type": "markdown",
   "id": "c6b748cc",
   "metadata": {},
   "source": [
    "### AMPEL and the Vera C. Rubin Observatory\n",
    "\n",
    "The Vera Rubin Observatory, and the LSST survey, will provide a legacy collection of real-time data. Considering the potential long term impact of any transient programs, the AMPEL analysis platform was developed to \n",
    "host complex science program with provenance requirements matching those of the observatory. In essence, this means the creation of _scientific analysis schema_ which detail all scientific/algorithmic choices being made. This schema can be distributed with publications, and consistently applied to simulated, archived and real-time datasets.\n",
    "\n",
    "##### This notebook : Real-time multi-messenger programs\n",
    "\n",
    "This notebook presents options for real-time multi-messenger channels using the AMPEL framework. It is closely aligned with `Tutorial 3` from this repository."
   ]
  },
  {
   "cell_type": "markdown",
   "id": "overhead-hacker",
   "metadata": {},
   "source": [
    "### Native procesessing of heterogeneous multi-messenger data streams\n",
    "\n",
    "Multi-messenger analysis by definition deals with processing of heterogenous data sources. We define _native_ multi-messenger data processing as one where multiple different streams are processed on equal footing, and downstream anaylsis have the flexibility to freely create events (states) from this data. _Non-native_ processing uses one stream as \"master\", to which external catalogs/watchlists/sky-maps are compared.\n",
    "\n",
    "Native heterogenous stream processing in AMPEL is achieved through multiple controllers which independently filter and ingests different input streams. A T1 _Combine_ unit is used to create multi-messenger states which links datapoints from both streams.\n",
    "\n",
    "The following sample analysis schema shows a setup where a public LSST stream and a private hop.SCIMMA streams are ingested."
   ]
  },
  {
   "cell_type": "markdown",
   "id": "0eb18d80",
   "metadata": {},
   "source": [
    "```\n",
    "...\n",
    "controller:\n",
    "  - unit: LSSTAlertStreamController         # Client for reader LSST alert stream\n",
    "      processor:\n",
    "        unit: AlertProcessor\n",
    "          directives:\n",
    "            filter:\n",
    "              unit: OpticalDataFilter       # Filter LSST data based on minimal usage criteria\n",
    "            t0_add:\n",
    "              unit: ZiAlertContentIngester  # Ingest optical data\n",
    "  - unit: HopskotchStreamController         # Wrapper around HOPSKOTCH client\n",
    "      config:\n",
    "        server: server_name                 \n",
    "        topic: my_private_topic             # Topic for private neutrino alert distribution\n",
    "        auth: SECRET\n",
    "      processor:\n",
    "        unit: AlertProcessor\n",
    "          directives:\n",
    "            filter:\n",
    "              unit: NeutrinoDataFilter      # Minimal significance criteria for accepting neutrino alerts\n",
    "            t0_add:\n",
    "              unit: HsAlertContentIngester  # Ingest content of stream\n",
    "t1_combine:\n",
    "  unit: PhotoNeutrinoCompoundIngester       # Unit w. recipe for associating data\n",
    "    config:\n",
    "      time_tolerance: 42                    # Sample parameter: how much can the emission times vary\n",
    "...\n",
    "...\n",
    "```"
   ]
  },
  {
   "cell_type": "markdown",
   "id": "fb5da03f",
   "metadata": {},
   "source": [
    "In this structure, scientific program choices are made in the filters as well as in the `PhotoNeutrinoCompoundIngester`."
   ]
  },
  {
   "cell_type": "markdown",
   "id": "sweet-terror",
   "metadata": {},
   "source": [
    "### Non-native multi-messenger analysis\n",
    "\n",
    "We here demo the use of an analysis T2 unit to compare selected optical transients with a catalog of recent multi-messenger events, ```T2MultiMessMatch```. "
   ]
  },
  {
   "cell_type": "code",
   "execution_count": null,
   "id": "congressional-tanzania",
   "metadata": {},
   "outputs": [],
   "source": [
    "import os\n",
    "%load_ext ampel_quick_import\n",
    "%qi DevAmpelContext AmpelLogger T2Processor T3Processor ChannelModel AlertProcessor TarAlertLoader ChannelModel AbsAlertFilter T2MultiMessMatch"
   ]
  },
  {
   "cell_type": "code",
   "execution_count": null,
   "id": "5c151e5f",
   "metadata": {},
   "outputs": [],
   "source": [
    "T2MultiMessMatch??"
   ]
  },
  {
   "cell_type": "markdown",
   "id": "stable-income",
   "metadata": {},
   "source": [
    "A unit - `T2MultiMessMatch` - retrieves a recent list of potential multi-messenger events, together with information of their spatial, temporal and energetics properties. It will then return a combined \"p-value\" of how closely these match the properties of the optical transients. A set of scaling factors determine the relative weight between these dimensions. A real unit would read this information from a local mirror of e.g. LIGO/VIRGO or IceCube events, while we here use an invented event.\n",
    "\n",
    "Path to unit: `Ampel-contrib-sample/ampel/contrib/sample/t2/T2MultiMessMatch.py`\n",
    "\n",
    "The final step of this notebook is the selection of events we consider \"good\" matches, based on having a small p-value."
   ]
  },
  {
   "cell_type": "code",
   "execution_count": null,
   "id": "surface-ballot",
   "metadata": {},
   "outputs": [],
   "source": [
    "AMPEL_CONF = \"../../ampel_config.yml\"\n",
    "ALERT_ARCHIVE = '../sample_data/ztfpub_200917_pruned.tar.gz'"
   ]
  },
  {
   "cell_type": "code",
   "execution_count": null,
   "id": "experienced-november",
   "metadata": {},
   "outputs": [],
   "source": [
    "# The operation context is created based on a setup configuration file.\n",
    "# db_prefix sets the DB name to use\n",
    "ctx = DevAmpelContext.load(\n",
    "    config_file_path = AMPEL_CONF,\n",
    "    db_prefix = \"AmpelTutorial\",\n",
    "    purge_db = True,\n",
    ")"
   ]
  },
  {
   "cell_type": "code",
   "execution_count": null,
   "id": "controlling-consistency",
   "metadata": {},
   "outputs": [],
   "source": [
    "# The Unit parameters will define how \n",
    "mm_match_conf = {\n",
    "    'temporal_pull_scaling' : 1,         # Neutral - we do not know when Neutrinos are emitted\n",
    "    'spatial_pull_scaling'  : 3.,        # Reasonably sure regarding location\n",
    "    'energy_pull_scaling'   : 0.001,     # Little constraint on energy, deweight this\n",
    "    'match_where'           : 'latest',  # latest, first or mean\n",
    "}\n",
    "mm_match_config_id = ctx.add_config_id( mm_match_conf )"
   ]
  },
  {
   "cell_type": "code",
   "execution_count": null,
   "id": "protected-paintball",
   "metadata": {},
   "outputs": [],
   "source": [
    "# A scientific program, a channel, is added\n",
    "ctx.add_channel(\n",
    "    name=\"demo_SN09if\",\n",
    "    access=['ZTF', 'ZTF_PUB']\n",
    ")"
   ]
  },
  {
   "cell_type": "code",
   "execution_count": null,
   "id": "coastal-slave",
   "metadata": {},
   "outputs": [],
   "source": [
    "# The channel is constructed from two units, each controlled by parameters. \n",
    "# Lets start with the straightforward filter \n",
    "filter_conf = {\n",
    "    'min_rb':0.3,\n",
    "    'min_ndet':7,\n",
    "    'min_tspan':10,\n",
    "    'max_tspan' : 200,\n",
    "    'min_gal_lat':15,\n",
    "}\n",
    "filter_config_id = ctx.add_config_id( filter_conf )"
   ]
  },
  {
   "cell_type": "code",
   "execution_count": null,
   "id": "secure-breed",
   "metadata": {},
   "outputs": [],
   "source": [
    "# The template matching has now been moved into a separate unit:\n",
    "# T2SNcosmoComp\n",
    "# where we added some configurability. \n",
    "match_conf = {\n",
    "    'target_model_name':'v19-2009ip-corr', \n",
    "    'base_model_name':'salt2', \n",
    "    'chi2dof_cut':2.,\n",
    "    'chicomp_scaling':0.5,\n",
    "}\n",
    "match_config_id = ctx.add_config_id( match_conf )"
   ]
  },
  {
   "cell_type": "code",
   "execution_count": null,
   "id": "premium-venue",
   "metadata": {},
   "outputs": [],
   "source": [
    "# A channel can specify which streams to read, how these should be combined and what units\n",
    "# should be run on each data combination.\n",
    "# This is provided as directives to the AlertProcessor, which besides processing the alerts\n",
    "# also submit tickets to the DB concerning further operations to execute for any transients\n",
    "# that pass the initial filter stage.\n",
    "ap = AlertProcessor(\n",
    "    context = ctx,\n",
    "    process_name = \"ipyton_notebook_test\",\n",
    "    supplier = \"ZiAlertSupplier\",\n",
    "    log_profile = \"debug\",\n",
    "    directives = [\n",
    "        {\n",
    "            \"channel\": \"demo_SN09if\", \n",
    "            \"filter\": {\"unit\": \"SimpleDecentFilterCopy\",\"config\": filter_config_id\n",
    "                        },\n",
    "            \"stock_update\": \"ZiStockIngester\",\n",
    "            't0_add': {\n",
    "                \"ingester\": \"ZiAlertContentIngester\",\n",
    "                \"t1_combine\": [\n",
    "                    {\n",
    "                        \"ingester\": \"PhotoCompoundIngester\",\n",
    "                        \"config\": {\"combiner\": \"ZiT1Combiner\"},\n",
    "                        \"t2_compute\": {\n",
    "                            \"ingester\": \"PhotoT2Ingester\",\n",
    "                            \"config\": {\"tags\": [\"ZTF\"]},\n",
    "                            \"units\": [\n",
    "                                {'unit': 'T2SNcosmoComp',\n",
    "                                 'config': match_config_id\n",
    "                                },\n",
    "                                {'unit': 'T2MultiMessMatch',\n",
    "                                 'config': mm_match_config_id\n",
    "                                },\n",
    "                                \n",
    "                            ]\n",
    "                        }\n",
    "                    }\n",
    "                ],\n",
    "            }\n",
    "        }\n",
    "    ]\n",
    ")"
   ]
  },
  {
   "cell_type": "code",
   "execution_count": null,
   "id": "deadly-definition",
   "metadata": {},
   "outputs": [],
   "source": [
    "# Provide a link to the alert collection to use\n",
    "ap.set_loader(TarAlertLoader(file_path=ALERT_ARCHIVE))"
   ]
  },
  {
   "cell_type": "code",
   "execution_count": null,
   "id": "personal-release",
   "metadata": {},
   "outputs": [],
   "source": [
    "ap.set_iter_max(1000)"
   ]
  },
  {
   "cell_type": "code",
   "execution_count": null,
   "id": "novel-reconstruction",
   "metadata": {},
   "outputs": [],
   "source": [
    "ap.run()"
   ]
  },
  {
   "cell_type": "code",
   "execution_count": null,
   "id": "comparative-football",
   "metadata": {},
   "outputs": [],
   "source": [
    "t2p = T2Processor(context=ctx, process_name=\"T2Processor_test\", log_profile=\"debug\")"
   ]
  },
  {
   "cell_type": "code",
   "execution_count": null,
   "id": "computational-contribution",
   "metadata": {},
   "outputs": [],
   "source": [
    "t2p.run()"
   ]
  },
  {
   "cell_type": "markdown",
   "id": "b1217524",
   "metadata": {},
   "source": [
    "In deciding which targets to follow we wish to also make use of the match criteria. Can be done as follows:"
   ]
  },
  {
   "cell_type": "code",
   "execution_count": null,
   "id": "750d96b1",
   "metadata": {},
   "outputs": [],
   "source": [
    "t3 = T3Processor(\n",
    "    context=ctx,\n",
    "    process_name = \"T3Processor_test\",\n",
    "    log_profile = \"default\", # debug\n",
    "    channel = \"demo_SN09if\",\n",
    "    directives = [ {\n",
    "        \"select\": {\n",
    "            \"unit\": \"T3FilteringStockSelector\",\n",
    "            \"config\": {\n",
    "                't2_filter': { \n",
    "                    'all_of': [                \n",
    "                        {\n",
    "                            'unit': 'T2SNcosmoComp',\n",
    "                            'match': {'target_match': True}\n",
    "                        }, \n",
    "                        {\n",
    "                            'unit': 'T2MultiMessMatch',\n",
    "                            'match': {'best_match': {\"$lt\":1} }\n",
    "                        },                         \n",
    "                    ]\n",
    "            } }\n",
    "        },\n",
    "        \"load\": {\n",
    "            \"unit\": \"T3SimpleDataLoader\",\n",
    "            \"config\": {\n",
    "                \"directives\": [\"TRANSIENT\", \"DATAPOINT\", \"COMPOUND\", \"T2RECORD\"],\n",
    "            }\n",
    "\n",
    "        },\n",
    "        \"run\": {\n",
    "            \"unit\": \"T3UnitRunner\",\n",
    "            \"config\": {\n",
    "                \"directives\": [\n",
    "                      {\n",
    "                            \"project\": {\n",
    "                                \"unit\": \"T3ChannelProjector\",\n",
    "                                \"config\": {\n",
    "                                    \"channel\": \"demo_SN09if\"\n",
    "                                }\n",
    "                            },\n",
    "                            \"execute\": [\n",
    "                                {\n",
    "                                    \"unit\": \"T3HelloWorld\",\n",
    "                                    \"config\": {\n",
    "                                        't2info_from' : ['T2SNcosmoComp', 'T2MultiMessMatch']\n",
    "                                    },\n",
    "                                },\n",
    "                            ]\n",
    "\n",
    "                      }\n",
    "                ]\n",
    "            }\n",
    "        }\n",
    "    } ]\n",
    ")"
   ]
  },
  {
   "cell_type": "code",
   "execution_count": null,
   "id": "03ccbb01",
   "metadata": {},
   "outputs": [],
   "source": [
    "t3.run()"
   ]
  },
  {
   "cell_type": "markdown",
   "id": "e1b5ea39",
   "metadata": {},
   "source": [
    "Looks like ZTF20abyfpze is our target! Next step would be to propagate the coordinates to a suitable facility (or export for visual inspection)."
   ]
  }
 ],
 "metadata": {
  "kernelspec": {
   "display_name": "Python 3",
   "language": "python",
   "name": "python3"
  },
  "language_info": {
   "codemirror_mode": {
    "name": "ipython",
    "version": 3
   },
   "file_extension": ".py",
   "mimetype": "text/x-python",
   "name": "python",
   "nbconvert_exporter": "python",
   "pygments_lexer": "ipython3",
   "version": "3.8.8"
  }
 },
 "nbformat": 4,
 "nbformat_minor": 5
}
